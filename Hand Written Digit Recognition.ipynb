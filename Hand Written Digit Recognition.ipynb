{
  "cells": [
    {
      "cell_type": "code",
      "execution_count": null,
      "metadata": {
        "id": "L78oYgqVMdk2"
      },
      "outputs": [],
      "source": [
        "import tensorflow as tf"
      ]
    },
    {
      "cell_type": "code",
      "execution_count": null,
      "metadata": {
        "id": "XJeTqj8ISfTB"
      },
      "outputs": [],
      "source": [
        "from tensorflow.keras.utils import to_categorical\n"
      ]
    },
    {
      "cell_type": "code",
      "execution_count": null,
      "metadata": {
        "id": "x86YcZBUOR4D"
      },
      "outputs": [],
      "source": [
        "from tensorflow.keras import Sequential"
      ]
    },
    {
      "cell_type": "code",
      "execution_count": null,
      "metadata": {
        "id": "lYPCcdHfOkak"
      },
      "outputs": [],
      "source": [
        "from tensorflow.keras.layers import Dense"
      ]
    },
    {
      "cell_type": "code",
      "execution_count": null,
      "metadata": {
        "colab": {
          "base_uri": "https://localhost:8080/"
        },
        "id": "N_4faCFdNiTG",
        "outputId": "f93de38e-6b1d-4a26-cc3a-da258ef84d67"
      },
      "outputs": [
        {
          "output_type": "stream",
          "name": "stdout",
          "text": [
            "Downloading data from https://storage.googleapis.com/tensorflow/tf-keras-datasets/mnist.npz\n",
            "11490434/11490434 [==============================] - 1s 0us/step\n"
          ]
        }
      ],
      "source": [
        "\n",
        "(train_images, train_labels), (test_images, test_labels) = tf.keras.datasets.mnist.load_data()\n",
        "\n"
      ]
    },
    {
      "cell_type": "code",
      "execution_count": null,
      "metadata": {
        "id": "O2S7CJVCSkf1"
      },
      "outputs": [],
      "source": [
        "train_labels = to_categorical(train_labels, num_classes=10)  # Assuming you have 10 classes\n",
        "test_labels = to_categorical(test_labels, num_classes=10)"
      ]
    },
    {
      "cell_type": "code",
      "execution_count": null,
      "metadata": {
        "id": "9t5UnfeYR7Ko"
      },
      "outputs": [],
      "source": [
        "train_images = train_images.reshape((60000, 28 * 28)).astype('float32') / 255\n",
        "test_images = test_images.reshape((10000, 28 * 28)).astype('float32') / 255"
      ]
    },
    {
      "cell_type": "code",
      "execution_count": null,
      "metadata": {
        "colab": {
          "base_uri": "https://localhost:8080/"
        },
        "id": "ZikyR08-Np0l",
        "outputId": "ebe987ec-281a-42e8-ffc2-39f157a8d987"
      },
      "outputs": [
        {
          "output_type": "stream",
          "name": "stdout",
          "text": [
            "Training images shape: (60000, 784)\n",
            "Training labels length: 60000\n",
            "Test images shape: (10000, 784)\n",
            "Test labels length: 10000\n"
          ]
        }
      ],
      "source": [
        "\n",
        "print(f\"Training images shape: {train_images.shape}\")\n",
        "print(f\"Training labels length: {len(train_labels)}\")\n",
        "print(f\"Test images shape: {test_images.shape}\")\n",
        "print(f\"Test labels length: {len(test_labels)}\")\n"
      ]
    },
    {
      "cell_type": "code",
      "execution_count": null,
      "metadata": {
        "id": "Bxh4aDVrNxaU"
      },
      "outputs": [],
      "source": [
        "model = Sequential([\n",
        "    Dense(units =784, activation = 'relu'),\n",
        "    Dense(units =128, activation = 'relu' ),\n",
        "    Dense(units =10,  activation = 'sigmoid')\n",
        "])"
      ]
    },
    {
      "cell_type": "code",
      "execution_count": null,
      "metadata": {
        "id": "RWERvNfkPunM"
      },
      "outputs": [],
      "source": [
        "model.compile(optimizer='adam', loss='categorical_crossentropy', metrics=['accuracy'])"
      ]
    },
    {
      "cell_type": "code",
      "execution_count": null,
      "metadata": {
        "colab": {
          "base_uri": "https://localhost:8080/"
        },
        "id": "h4-5FoL1Qf_O",
        "outputId": "cbeeb9a8-7b9b-4d97-b46d-3c0dbd39888a"
      },
      "outputs": [
        {
          "name": "stdout",
          "output_type": "stream",
          "text": [
            "Epoch 1/5\n",
            "1875/1875 [==============================] - 22s 12ms/step - loss: 0.1825 - accuracy: 0.9436 - val_loss: 0.1242 - val_accuracy: 0.9618\n",
            "Epoch 2/5\n",
            "1875/1875 [==============================] - 21s 11ms/step - loss: 0.0778 - accuracy: 0.9755 - val_loss: 0.0851 - val_accuracy: 0.9739\n",
            "Epoch 3/5\n",
            "1875/1875 [==============================] - 22s 12ms/step - loss: 0.0528 - accuracy: 0.9832 - val_loss: 0.0779 - val_accuracy: 0.9767\n",
            "Epoch 4/5\n",
            "1875/1875 [==============================] - 23s 12ms/step - loss: 0.0395 - accuracy: 0.9866 - val_loss: 0.0694 - val_accuracy: 0.9786\n",
            "Epoch 5/5\n",
            "1875/1875 [==============================] - 21s 11ms/step - loss: 0.0308 - accuracy: 0.9895 - val_loss: 0.0707 - val_accuracy: 0.9810\n"
          ]
        },
        {
          "data": {
            "text/plain": [
              "<keras.src.callbacks.History at 0x782b0823f730>"
            ]
          },
          "execution_count": 40,
          "metadata": {},
          "output_type": "execute_result"
        }
      ],
      "source": [
        "model.fit(train_images, train_labels, epochs=5, batch_size=32, validation_data=(test_images, test_labels))\n"
      ]
    },
    {
      "cell_type": "code",
      "execution_count": null,
      "metadata": {
        "colab": {
          "base_uri": "https://localhost:8080/"
        },
        "id": "eV7naOXCQ6af",
        "outputId": "e1fd3708-9fc9-487e-de03-0bb7911beef3"
      },
      "outputs": [
        {
          "name": "stdout",
          "output_type": "stream",
          "text": [
            "Epoch 1/10\n",
            "1875/1875 [==============================] - 22s 12ms/step - loss: 0.0260 - accuracy: 0.9918 - val_loss: 0.0751 - val_accuracy: 0.9801\n",
            "Epoch 2/10\n",
            "1875/1875 [==============================] - 22s 12ms/step - loss: 0.0238 - accuracy: 0.9923 - val_loss: 0.0845 - val_accuracy: 0.9805\n",
            "Epoch 3/10\n",
            "1875/1875 [==============================] - 22s 12ms/step - loss: 0.0194 - accuracy: 0.9935 - val_loss: 0.0845 - val_accuracy: 0.9800\n",
            "Epoch 4/10\n",
            "1875/1875 [==============================] - 22s 12ms/step - loss: 0.0180 - accuracy: 0.9940 - val_loss: 0.1089 - val_accuracy: 0.9778\n",
            "Epoch 5/10\n",
            "1875/1875 [==============================] - 21s 11ms/step - loss: 0.0170 - accuracy: 0.9947 - val_loss: 0.0925 - val_accuracy: 0.9803\n",
            "Epoch 6/10\n",
            "1875/1875 [==============================] - 22s 12ms/step - loss: 0.0152 - accuracy: 0.9953 - val_loss: 0.0987 - val_accuracy: 0.9804\n",
            "Epoch 7/10\n",
            "1875/1875 [==============================] - 21s 11ms/step - loss: 0.0138 - accuracy: 0.9954 - val_loss: 0.1115 - val_accuracy: 0.9786\n",
            "Epoch 8/10\n",
            "1875/1875 [==============================] - 21s 11ms/step - loss: 0.0130 - accuracy: 0.9960 - val_loss: 0.1032 - val_accuracy: 0.9824\n",
            "Epoch 9/10\n",
            "1875/1875 [==============================] - 23s 12ms/step - loss: 0.0109 - accuracy: 0.9969 - val_loss: 0.0915 - val_accuracy: 0.9825\n",
            "Epoch 10/10\n",
            "1875/1875 [==============================] - 21s 11ms/step - loss: 0.0120 - accuracy: 0.9966 - val_loss: 0.1318 - val_accuracy: 0.9787\n"
          ]
        },
        {
          "data": {
            "text/plain": [
              "<keras.src.callbacks.History at 0x782af11b9c60>"
            ]
          },
          "execution_count": 41,
          "metadata": {},
          "output_type": "execute_result"
        }
      ],
      "source": [
        "model.fit(train_images, train_labels, epochs=10, batch_size=32, validation_data=(test_images, test_labels))\n"
      ]
    },
    {
      "cell_type": "code",
      "execution_count": null,
      "metadata": {
        "colab": {
          "base_uri": "https://localhost:8080/"
        },
        "id": "hMTbxVUwTy42",
        "outputId": "889b14dd-bb94-426b-c95d-c9c40813334a"
      },
      "outputs": [
        {
          "name": "stdout",
          "output_type": "stream",
          "text": [
            "Epoch 1/20\n",
            "1875/1875 [==============================] - 25s 12ms/step - loss: 0.1829 - accuracy: 0.9445 - val_loss: 0.1130 - val_accuracy: 0.9632\n",
            "Epoch 2/20\n",
            "1875/1875 [==============================] - 20s 11ms/step - loss: 0.0792 - accuracy: 0.9755 - val_loss: 0.0763 - val_accuracy: 0.9758\n",
            "Epoch 3/20\n",
            "1875/1875 [==============================] - 20s 11ms/step - loss: 0.0538 - accuracy: 0.9832 - val_loss: 0.0701 - val_accuracy: 0.9806\n",
            "Epoch 4/20\n",
            "1875/1875 [==============================] - 21s 11ms/step - loss: 0.0395 - accuracy: 0.9877 - val_loss: 0.0719 - val_accuracy: 0.9787\n",
            "Epoch 5/20\n",
            "1875/1875 [==============================] - 20s 10ms/step - loss: 0.0310 - accuracy: 0.9901 - val_loss: 0.0681 - val_accuracy: 0.9802\n",
            "Epoch 6/20\n",
            "1875/1875 [==============================] - 20s 11ms/step - loss: 0.0267 - accuracy: 0.9916 - val_loss: 0.0811 - val_accuracy: 0.9795\n",
            "Epoch 7/20\n",
            "1875/1875 [==============================] - 20s 10ms/step - loss: 0.0230 - accuracy: 0.9925 - val_loss: 0.0880 - val_accuracy: 0.9796\n",
            "Epoch 8/20\n",
            "1875/1875 [==============================] - 21s 11ms/step - loss: 0.0201 - accuracy: 0.9940 - val_loss: 0.0899 - val_accuracy: 0.9775\n",
            "Epoch 9/20\n",
            "1875/1875 [==============================] - 20s 11ms/step - loss: 0.0167 - accuracy: 0.9945 - val_loss: 0.0897 - val_accuracy: 0.9809\n",
            "Epoch 10/20\n",
            "1875/1875 [==============================] - 20s 11ms/step - loss: 0.0177 - accuracy: 0.9944 - val_loss: 0.0908 - val_accuracy: 0.9806\n",
            "Epoch 11/20\n",
            "1875/1875 [==============================] - 20s 11ms/step - loss: 0.0168 - accuracy: 0.9947 - val_loss: 0.0891 - val_accuracy: 0.9816\n",
            "Epoch 12/20\n",
            "1875/1875 [==============================] - 20s 11ms/step - loss: 0.0119 - accuracy: 0.9964 - val_loss: 0.1252 - val_accuracy: 0.9772\n",
            "Epoch 13/20\n",
            "1875/1875 [==============================] - 19s 10ms/step - loss: 0.0148 - accuracy: 0.9952 - val_loss: 0.0980 - val_accuracy: 0.9815\n",
            "Epoch 14/20\n",
            "1875/1875 [==============================] - 21s 11ms/step - loss: 0.0099 - accuracy: 0.9970 - val_loss: 0.0955 - val_accuracy: 0.9830\n",
            "Epoch 15/20\n",
            "1875/1875 [==============================] - 20s 10ms/step - loss: 0.0120 - accuracy: 0.9968 - val_loss: 0.1543 - val_accuracy: 0.9745\n",
            "Epoch 16/20\n",
            "1875/1875 [==============================] - 21s 11ms/step - loss: 0.0126 - accuracy: 0.9962 - val_loss: 0.1092 - val_accuracy: 0.9826\n",
            "Epoch 17/20\n",
            "1875/1875 [==============================] - 20s 10ms/step - loss: 0.0114 - accuracy: 0.9969 - val_loss: 0.1074 - val_accuracy: 0.9819\n",
            "Epoch 18/20\n",
            "1875/1875 [==============================] - 21s 11ms/step - loss: 0.0099 - accuracy: 0.9970 - val_loss: 0.1153 - val_accuracy: 0.9811\n",
            "Epoch 19/20\n",
            "1875/1875 [==============================] - 19s 10ms/step - loss: 0.0092 - accuracy: 0.9973 - val_loss: 0.1318 - val_accuracy: 0.9811\n",
            "Epoch 20/20\n",
            "1875/1875 [==============================] - 21s 11ms/step - loss: 0.0135 - accuracy: 0.9969 - val_loss: 0.1171 - val_accuracy: 0.9817\n"
          ]
        },
        {
          "data": {
            "text/plain": [
              "<keras.src.callbacks.History at 0x785a68c88d60>"
            ]
          },
          "execution_count": 11,
          "metadata": {},
          "output_type": "execute_result"
        }
      ],
      "source": [
        "model.fit(train_images, train_labels, epochs=20, batch_size=32, validation_data=(test_images, test_labels))\n"
      ]
    },
    {
      "cell_type": "code",
      "execution_count": null,
      "metadata": {
        "id": "WgcHg6DAX7FY"
      },
      "outputs": [],
      "source": []
    }
  ],
  "metadata": {
    "colab": {
      "provenance": []
    },
    "kernelspec": {
      "display_name": "Python 3",
      "name": "python3"
    },
    "language_info": {
      "name": "python"
    }
  },
  "nbformat": 4,
  "nbformat_minor": 0
}